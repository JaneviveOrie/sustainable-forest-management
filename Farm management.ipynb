{
 "cells": [
  {
   "cell_type": "code",
   "execution_count": 3,
   "id": "f10610f4-11ac-42a3-baf5-eeb765068e4a",
   "metadata": {},
   "outputs": [
    {
     "name": "stdout",
     "output_type": "stream",
     "text": [
      "Total Harvest in Kilograms: 5650\n"
     ]
    }
   ],
   "source": [
    "total_kgs_wheat_harvest = 2050\n",
    "total_kgs_potato_harvest = 3600\n",
    "\n",
    "total_kgs_harvest = total_kgs_wheat_harvest + total_kgs_potato_harvest\n",
    "print(\"Total Harvest in Kilograms:\", total_kgs_harvest)"
   ]
  },
  {
   "cell_type": "code",
   "execution_count": 4,
   "id": "4c204bf3-f989-4a7b-9a00-8c169ef38058",
   "metadata": {},
   "outputs": [
    {
     "name": "stdout",
     "output_type": "stream",
     "text": [
      "Total expenses in dollars: 3720\n"
     ]
    }
   ],
   "source": [
    "seed_expense = 650\n",
    "labour_expense = 3070\n",
    "\n",
    "total_expenses_dollars = seed_expense + labour_expense \n",
    "print(\"Total expenses in dollars:\", total_expenses_dollars)"
   ]
  },
  {
   "cell_type": "code",
   "execution_count": 6,
   "id": "a35e9a5d-5904-4e94-abe7-1ed4dd62a3b0",
   "metadata": {},
   "outputs": [
    {
     "name": "stdout",
     "output_type": "stream",
     "text": [
      "Total revenue in dollars: 9140.0\n"
     ]
    }
   ],
   "source": [
    "price_per_kg_wheat = 2\n",
    "price_per_kg_potato = 1.4\n",
    "\n",
    "total_revenue_dollars = (price_per_kg_wheat* total_kgs_wheat_harvest) + (price_per_kg_potato * total_kgs_potato_harvest)\n",
    "print(\"Total revenue in dollars:\", total_revenue_dollars)"
   ]
  },
  {
   "cell_type": "code",
   "execution_count": 7,
   "id": "4e25ebaa-8225-48e6-a801-093a5d4bbaa5",
   "metadata": {},
   "outputs": [
    {
     "name": "stdout",
     "output_type": "stream",
     "text": [
      "Total Profit in Dollars: 5420.0\n"
     ]
    }
   ],
   "source": [
    "total_profit_dollars = total_revenue_dollars - total_expenses_dollars\n",
    "print(\"Total Profit in Dollars:\", total_profit_dollars)"
   ]
  },
  {
   "cell_type": "code",
   "execution_count": 8,
   "id": "03af0363-d6c3-4e13-90ee-627151e3028b",
   "metadata": {},
   "outputs": [
    {
     "name": "stdout",
     "output_type": "stream",
     "text": [
      "<class 'int'>\n",
      "<class 'str'>\n",
      "<class 'float'>\n"
     ]
    }
   ],
   "source": [
    "int_variable = 42\n",
    "string_variable = \"Hello, World!\"\n",
    "float_variable = 3.14\n",
    "\n",
    "print(type(int_variable))\n",
    "print(type(string_variable))\n",
    "print(type(float_variable))"
   ]
  },
  {
   "cell_type": "code",
   "execution_count": 11,
   "id": "a04d686e-6a77-4eda-a67c-7cd7eb12527f",
   "metadata": {},
   "outputs": [
    {
     "name": "stdout",
     "output_type": "stream",
     "text": [
      "3 : <class 'int'>\n",
      "42.42 : <class 'float'>\n",
      "123 : <class 'str'>\n"
     ]
    }
   ],
   "source": [
    "integer_variable = int(3.14)\n",
    "float_variable = float(\"42.42\")\n",
    "string_variable = str(123)\n",
    "\n",
    "print(integer_variable,\":\", type(int_variable))\n",
    "print(float_variable, \":\", type(float_variable))\n",
    "print(string_variable, \":\", type(string_variable))"
   ]
  },
  {
   "cell_type": "code",
   "execution_count": 12,
   "id": "749baa40-f05b-4049-9dfb-d0dfc1a01ae6",
   "metadata": {},
   "outputs": [
    {
     "name": "stdout",
     "output_type": "stream",
     "text": [
      "5 : <class 'int'>\n",
      "10 : <class 'int'>\n",
      "2.0 : <class 'float'>\n"
     ]
    }
   ],
   "source": [
    "integer1 = 5\n",
    "integer2 = 10\n",
    "answer = integer2/integer1\n",
    "\n",
    "print(integer1,\":\", type(integer1))\n",
    "print(integer2, \":\", type(integer2))\n",
    "print(answer, \":\", type(answer))"
   ]
  },
  {
   "cell_type": "code",
   "execution_count": 13,
   "id": "a572ec1a-e8ad-4440-82de-8964f9b10679",
   "metadata": {},
   "outputs": [
    {
     "name": "stdout",
     "output_type": "stream",
     "text": [
      "42.0 : <class 'float'>\n",
      "3 : <class 'int'>\n"
     ]
    }
   ],
   "source": [
    "float_result = float(\"42\")\n",
    "integer_from_float_result = int(float(\"3.14\"))\n",
    "\n",
    "print(float_result,\":\", type(float_result))\n",
    "print(integer_from_float_result, \":\", type(integer_from_float_result))"
   ]
  },
  {
   "cell_type": "code",
   "execution_count": 14,
   "id": "16aa1f94-5650-43af-9cb8-b6634f157f49",
   "metadata": {},
   "outputs": [
    {
     "name": "stdout",
     "output_type": "stream",
     "text": [
      "128.67 : <class 'float'>\n"
     ]
    }
   ],
   "source": [
    "variable_a = 5.67\n",
    "variable_b = \"123\"\n",
    "\n",
    "variable_a = float(variable_a)\n",
    "variable_b = int(variable_b)\n",
    "\n",
    "result = variable_a + variable_b\n",
    "\n",
    "print(result, \":\", type(result))"
   ]
  },
  {
   "cell_type": "code",
   "execution_count": 15,
   "id": "2f1a89b7-fc22-47e3-a0a1-f0387d242b0e",
   "metadata": {},
   "outputs": [
    {
     "name": "stdout",
     "output_type": "stream",
     "text": [
      "42 : <class 'int'>\n",
      "42.42 : <class 'float'>\n"
     ]
    }
   ],
   "source": [
    "mixed_variable = \"42.42\"\n",
    "\n",
    "float_version = float(mixed_variable)\n",
    "integer_version = int(float_version)\n",
    "\n",
    "print(integer_version, \":\", type(integer_version))\n",
    "print(float_version, \":\", type(float_version))"
   ]
  },
  {
   "cell_type": "code",
   "execution_count": 16,
   "id": "070eac88-87b5-4449-8515-4df66eca9677",
   "metadata": {},
   "outputs": [
    {
     "name": "stdout",
     "output_type": "stream",
     "text": [
      "Total amount in cents: 4256\n"
     ]
    }
   ],
   "source": [
    "total_amount = 42.56\n",
    "total_amount_in_cents = int(total_amount * 100)\n",
    "\n",
    "print(\"Total amount in cents:\", total_amount_in_cents)"
   ]
  },
  {
   "cell_type": "code",
   "execution_count": 17,
   "id": "93e15182-6871-4270-ace2-355766e45390",
   "metadata": {},
   "outputs": [
    {
     "name": "stdout",
     "output_type": "stream",
     "text": [
      "Positive indexing:\n",
      "First character: H\n",
      "Second character: e\n",
      "Last character: !\n"
     ]
    }
   ],
   "source": [
    "my_string = \"Hello, World!\"\n",
    "\n",
    "first_char = my_string[0]\n",
    "second_char = my_string[1]\n",
    "last_char = my_string[12]\n",
    "\n",
    "print(\"Positive indexing:\")\n",
    "print(\"First character:\", first_char)\n",
    "print(\"Second character:\", second_char)\n",
    "print(\"Last character:\", last_char)"
   ]
  },
  {
   "cell_type": "code",
   "execution_count": 18,
   "id": "02cf7520-d17f-4257-af25-0918270db825",
   "metadata": {},
   "outputs": [
    {
     "name": "stdout",
     "output_type": "stream",
     "text": [
      "\n",
      "Negative indexing:\n",
      "Last character: !\n",
      "Second last character: d\n",
      "First character: H\n"
     ]
    }
   ],
   "source": [
    "last_char_negative = my_string[-1]\n",
    "second_last_char = my_string[-2]\n",
    "first_char_negative = my_string[-13]\n",
    "\n",
    "print(\"\\nNegative indexing:\")\n",
    "print(\"Last character:\", last_char_negative)\n",
    "print(\"Second last character:\", second_last_char)\n",
    "print(\"First character:\", first_char_negative)"
   ]
  },
  {
   "cell_type": "code",
   "execution_count": 19,
   "id": "2918e794-7c2c-49ca-90f0-4a2284664999",
   "metadata": {},
   "outputs": [
    {
     "name": "stdout",
     "output_type": "stream",
     "text": [
      "Hello,\n",
      "World!\n"
     ]
    }
   ],
   "source": [
    "print(\"Hello,\\nWorld!\")"
   ]
  },
  {
   "cell_type": "code",
   "execution_count": 20,
   "id": "e5ba3d78-1cd0-4b8b-8303-7d7989fdb7ae",
   "metadata": {},
   "outputs": [
    {
     "name": "stdout",
     "output_type": "stream",
     "text": [
      "Name:\tJohn\n",
      "Age:\t25\n"
     ]
    }
   ],
   "source": [
    "print(\"Name:\\tJohn\\nAge:\\t25\")"
   ]
  },
  {
   "cell_type": "code",
   "execution_count": 21,
   "id": "d6baac9e-2ffd-4c08-ba51-c19f1b52c315",
   "metadata": {},
   "outputs": [
    {
     "name": "stdout",
     "output_type": "stream",
     "text": [
      "This is a backslash: \\\n"
     ]
    }
   ],
   "source": [
    "print(\"This is a backslash: \\\\\")"
   ]
  },
  {
   "cell_type": "code",
   "execution_count": 22,
   "id": "d243f5aa-0417-40a3-8c1a-91476404cff1",
   "metadata": {},
   "outputs": [
    {
     "name": "stdout",
     "output_type": "stream",
     "text": [
      "He said, 'Hello!'\n"
     ]
    }
   ],
   "source": [
    "print('He said, \\'Hello!\\'')"
   ]
  },
  {
   "cell_type": "code",
   "execution_count": 23,
   "id": "67a60b7f-fa42-47b8-8a49-5cd9db953acd",
   "metadata": {},
   "outputs": [
    {
     "name": "stdout",
     "output_type": "stream",
     "text": [
      "She exclaimed, \"Wow!\"\n"
     ]
    }
   ],
   "source": [
    "print(\"She exclaimed, \\\"Wow!\\\"\")"
   ]
  },
  {
   "cell_type": "code",
   "execution_count": 24,
   "id": "a6a587ce-eb50-40dd-8f72-2262052ef321",
   "metadata": {},
   "outputs": [
    {
     "name": "stdout",
     "output_type": "stream",
     "text": [
      "This text.\n"
     ]
    }
   ],
   "source": [
    "print(\"Overwrite\\rThis text.\")"
   ]
  },
  {
   "cell_type": "code",
   "execution_count": 25,
   "id": "e7c6492d-a0c8-4b81-a451-69d8fd1279ac",
   "metadata": {},
   "outputs": [
    {
     "name": "stdout",
     "output_type": "stream",
     "text": [
      "Remov This\n"
     ]
    }
   ],
   "source": [
    "print(\"Remove\\b This\")"
   ]
  },
  {
   "cell_type": "code",
   "execution_count": 26,
   "id": "267d7b91-1cdf-4799-8ab1-050c0a073375",
   "metadata": {},
   "outputs": [
    {
     "name": "stdout",
     "output_type": "stream",
     "text": [
      "This is an alert!\u0007\n"
     ]
    }
   ],
   "source": [
    "print(\"This is an alert!\\a\")"
   ]
  },
  {
   "cell_type": "code",
   "execution_count": 27,
   "id": "9c2b141d-984d-45ce-b7b3-6933e80f2e4e",
   "metadata": {},
   "outputs": [
    {
     "name": "stdout",
     "output_type": "stream",
     "text": [
      "Octal representation: H\n"
     ]
    }
   ],
   "source": [
    "print(\"Octal representation: \\110\")"
   ]
  },
  {
   "cell_type": "code",
   "execution_count": 28,
   "id": "a482c298-fe02-43b6-9107-6fb080dad669",
   "metadata": {},
   "outputs": [
    {
     "name": "stdout",
     "output_type": "stream",
     "text": [
      "Hexadecimal representation: H\n"
     ]
    }
   ],
   "source": [
    "print(\"Hexadecimal representation: \\x48\")"
   ]
  },
  {
   "cell_type": "code",
   "execution_count": 31,
   "id": "e28f43d6-086d-4e5d-8094-e55bfd54551b",
   "metadata": {},
   "outputs": [
    {
     "name": "stdout",
     "output_type": "stream",
     "text": [
      "Third Character: t\n",
      "First Character: !\n",
      "Sub String: IsAw\n"
     ]
    }
   ],
   "source": [
    "challenge_string = \"PythonIsAwesome!\"\n",
    "\n",
    "third_character = challenge_string [2]\n",
    "first_character = challenge_string [-1]\n",
    "sub_string = challenge_string [6:10]\n",
    "\n",
    "print(\"Third Character:\", third_character)\n",
    "print(\"First Character:\", first_character)\n",
    "print(\"Sub String:\", sub_string)"
   ]
  },
  {
   "cell_type": "code",
   "execution_count": 33,
   "id": "722bf55b-ab7e-4408-b61d-aaa50f2c1add",
   "metadata": {},
   "outputs": [
    {
     "name": "stdout",
     "output_type": "stream",
     "text": [
      "Programming is fun!\n"
     ]
    }
   ],
   "source": [
    "string1 = \"Programming\"\n",
    "string2 = \" is fun!\"\n",
    "\n",
    "concatenate = string1 + string2\n",
    "\n",
    "print(concatenate)"
   ]
  },
  {
   "cell_type": "code",
   "execution_count": 40,
   "id": "97fd2cb4-e928-470d-97b5-8f6bc70316aa",
   "metadata": {},
   "outputs": [
    {
     "name": "stdout",
     "output_type": "stream",
     "text": [
      "John, Age: 30\n",
      "This is a multiline string.\n",
      "Name: \tJohn\n",
      "Age: \t30\n",
      "This is a backslash\\\n",
      "He said, 'Hello!'\n",
      "She exclaimed, \"Wow!\"\n",
      "This text.\n",
      "Remov This\n"
     ]
    }
   ],
   "source": [
    "multiline = \"\"\"John, Age: 30\n",
    "This is a multiline string.\n",
    "Name: \\tJohn\n",
    "Age: \\t30\n",
    "This is a backslash\\\\\n",
    "He said, \\'Hello!\\'\n",
    "She exclaimed, \\\"Wow!\\\"\n",
    "Overwrite\\rThis text.\n",
    "Remove\\b This\"\"\"\n",
    "\n",
    "print(multiline)"
   ]
  },
  {
   "cell_type": "code",
   "execution_count": 43,
   "id": "3fbef3ec-c7d1-4710-bfb5-e72b59e30ad0",
   "metadata": {},
   "outputs": [
    {
     "name": "stdout",
     "output_type": "stream",
     "text": [
      "Hello World\n"
     ]
    }
   ],
   "source": [
    "string1 = \"Hello\"\n",
    "string2 = \"World\"\n",
    "result = string1 + \" \" + string2\n",
    "print(result)"
   ]
  },
  {
   "cell_type": "code",
   "execution_count": 48,
   "id": "2de40098-9fc9-4e50-ac14-7d3ab87d2339",
   "metadata": {},
   "outputs": [
    {
     "name": "stdout",
     "output_type": "stream",
     "text": [
      "PythonPythonPythonPythonPython\n"
     ]
    }
   ],
   "source": [
    "original_string = \"Python\"\n",
    "replicated_string = original_string * 5\n",
    "print(replicated_string)"
   ]
  },
  {
   "cell_type": "code",
   "execution_count": 51,
   "id": "bab4acea-4b25-43af-a158-06de4c05250d",
   "metadata": {},
   "outputs": [
    {
     "name": "stdout",
     "output_type": "stream",
     "text": [
      "is\n"
     ]
    }
   ],
   "source": [
    "text = \"Python is amazing\"\n",
    "substring = text[7:9]\n",
    "print(substring)"
   ]
  },
  {
   "cell_type": "code",
   "execution_count": 52,
   "id": "be14ee0a-0d81-4aca-8694-f9712597044b",
   "metadata": {},
   "outputs": [
    {
     "name": "stdout",
     "output_type": "stream",
     "text": [
      "HELLO, WORLD!\n"
     ]
    }
   ],
   "source": [
    "original_string = \"hello, world!\"\n",
    "uppercase_string = original_string.upper()\n",
    "print(uppercase_string)"
   ]
  },
  {
   "cell_type": "code",
   "execution_count": 53,
   "id": "536c9e77-52cd-4a20-9310-f023aba5c28e",
   "metadata": {},
   "outputs": [
    {
     "name": "stdout",
     "output_type": "stream",
     "text": [
      "Hello, world!\n"
     ]
    }
   ],
   "source": [
    "original_string = \"hello, world!\"\n",
    "capitalised_string = original_string.capitalize()\n",
    "print(capitalised_string)"
   ]
  },
  {
   "cell_type": "code",
   "execution_count": 57,
   "id": "f7599614-f894-481e-8279-73970ac04035",
   "metadata": {},
   "outputs": [
    {
     "name": "stdout",
     "output_type": "stream",
     "text": [
      "This is a sentence with spaces.\n"
     ]
    }
   ],
   "source": [
    "raw_input = \"    This is a sentence with spaces.    \"\n",
    "trimmed_input = raw_input.strip()\n",
    "print(trimmed_input)"
   ]
  },
  {
   "cell_type": "code",
   "execution_count": 58,
   "id": "d88273e9-0c4b-469f-b431-475f73af2b81",
   "metadata": {},
   "outputs": [
    {
     "name": "stdout",
     "output_type": "stream",
     "text": [
      "JavaScript is a powerful programming language.\n"
     ]
    }
   ],
   "source": [
    "original_text = \"Python is a powerful programming language.\"\n",
    "modified_text = original_text.replace(\"Python\", \"JavaScript\")\n",
    "print(modified_text)"
   ]
  },
  {
   "cell_type": "code",
   "execution_count": 59,
   "id": "8cead0b9-7248-4aa4-b0ab-a9bcff9493d1",
   "metadata": {},
   "outputs": [
    {
     "name": "stdout",
     "output_type": "stream",
     "text": [
      "16\n"
     ]
    }
   ],
   "source": [
    "sentence = \"Searching for a keyword in this sentence.\"\n",
    "index = sentence.find(\"keyword\")\n",
    "print(index)"
   ]
  },
  {
   "cell_type": "code",
   "execution_count": 60,
   "id": "28dd6fce-b133-4760-a632-040e590564f6",
   "metadata": {},
   "outputs": [
    {
     "name": "stdout",
     "output_type": "stream",
     "text": [
      "Hey Alice!\n"
     ]
    }
   ],
   "source": [
    "greeting = \"Hey\"\n",
    "name = \"Alice\"\n",
    "punctuation = \"!\"\n",
    "\n",
    "personalised_greeting = greeting + \" \" + name + punctuation\n",
    "print(personalised_greeting)"
   ]
  },
  {
   "cell_type": "code",
   "execution_count": 61,
   "id": "ee682618-1fd7-477e-99d4-3af31651f128",
   "metadata": {},
   "outputs": [
    {
     "name": "stdout",
     "output_type": "stream",
     "text": [
      "ABCABCABCABCABC\n"
     ]
    }
   ],
   "source": [
    "pattern = \"ABC\"\n",
    "\n",
    "repeated_pattern = pattern * 5\n",
    "print(repeated_pattern)"
   ]
  },
  {
   "cell_type": "code",
   "execution_count": 64,
   "id": "e18bf456-0cc5-4edd-aaba-17799bff0acf",
   "metadata": {},
   "outputs": [
    {
     "name": "stdout",
     "output_type": "stream",
     "text": [
      "PYTHON STRING MANIPULATION\n",
      "Python string manipulation\n",
      "python text manipulation\n"
     ]
    }
   ],
   "source": [
    "manipulation_string = \"python string manipulation\"\n",
    "upper_manipulation_string = manipulation_string.upper()\n",
    "capitalise_manipulation_string = manipulation_string.capitalize()\n",
    "modified_manipulation_string = manipulation_string.replace(\"string\", \"text\")\n",
    "\n",
    "print(upper_manipulation_string)\n",
    "print(capitalise_manipulation_string)\n",
    "print(modified_manipulation_string)"
   ]
  },
  {
   "cell_type": "code",
   "execution_count": 65,
   "id": "e45bce1a-621c-4c6e-8f28-2711ef732821",
   "metadata": {},
   "outputs": [
    {
     "name": "stdout",
     "output_type": "stream",
     "text": [
      "orange pie, orange juice, orange tart\n"
     ]
    }
   ],
   "source": [
    "complex_string = \"apple pie, apple juice, apple tart\"\n",
    "\n",
    "new_complex_string = complex_string.replace(\"apple\", \"orange\")\n",
    "print(new_complex_string)"
   ]
  },
  {
   "cell_type": "code",
   "execution_count": 71,
   "id": "fc96c3a9-9a23-423e-bb08-24f24d673f41",
   "metadata": {},
   "outputs": [
    {
     "name": "stdout",
     "output_type": "stream",
     "text": [
      "Addition: 22\n",
      "Subtraction: 8\n",
      "Multiplication: 105\n",
      "Division: 2.142857142857143\n"
     ]
    }
   ],
   "source": [
    "num1 = 15\n",
    "num2 = 7\n",
    "\n",
    "addition = num1 + num2\n",
    "subtraction = num1 - num2\n",
    "multiplication = num1 * num2\n",
    "division = float(num1)/num2\n",
    "\n",
    "print (\"Addition:\", addition)\n",
    "print (\"Subtraction:\", subtraction)\n",
    "print (\"Multiplication:\", multiplication)\n",
    "print (\"Division:\", division)"
   ]
  },
  {
   "cell_type": "code",
   "execution_count": 78,
   "id": "51055d07-3a4e-4b34-abd9-fa2962600784",
   "metadata": {},
   "outputs": [
    {
     "name": "stdout",
     "output_type": "stream",
     "text": [
      "JANEVIVE ORIE\n"
     ]
    }
   ],
   "source": [
    "first_name = \"Janevive\"\n",
    "last_name = \"Orie\"\n",
    "\n",
    "my_name = (first_name + \" \" + last_name).upper()\n",
    "\n",
    "print(my_name)"
   ]
  },
  {
   "cell_type": "code",
   "execution_count": 79,
   "id": "37d8fd09-c24d-440f-bb67-3792580b468a",
   "metadata": {},
   "outputs": [
    {
     "name": "stdout",
     "output_type": "stream",
     "text": [
      "3.75\n"
     ]
    }
   ],
   "source": [
    "num_of_books = \"15\"\n",
    "books_read = int(num_of_books)\n",
    "\n",
    "average = books_read/4\n",
    "print(average)"
   ]
  },
  {
   "cell_type": "code",
   "execution_count": 5,
   "id": "71c89da2-cb00-4d08-bf33-39e19b4dacd5",
   "metadata": {},
   "outputs": [
    {
     "name": "stdout",
     "output_type": "stream",
     "text": [
      "The BMI of John Doe is: 22.367346938775512\n"
     ]
    }
   ],
   "source": [
    "name = \"John Doe\"\n",
    "age = \"25\"\n",
    "height = 1.75\n",
    "weight = 68.5\n",
    "\n",
    "bmi = weight/(height**2)\n",
    "\n",
    "print(f\"The BMI of {name} is: {bmi}\")"
   ]
  },
  {
   "cell_type": "code",
   "execution_count": 12,
   "id": "f7ed2f53-fdbb-4ff2-9528-55496e0670da",
   "metadata": {},
   "outputs": [
    {
     "name": "stdout",
     "output_type": "stream",
     "text": [
      "Product Name: Widget XYZ\n",
      "Initial Quantity: 100\n",
      "Price per Unit: 12.5\n",
      "Discount Percentage: 15.0 %\n",
      "\n",
      "----Result----\n",
      "Total Value of Initial Stock: $ 1250.0\n",
      "Discounted Value: $ 1062.5\n",
      "Updated Quantity: 130\n"
     ]
    }
   ],
   "source": [
    "product_name = \"Widget XYZ\"\n",
    "initial_quantity = 100\n",
    "price_per_unit = 12.50\n",
    "discount_percentage = 0.15\n",
    "\n",
    "total_value_of_initial_stock = initial_quantity * price_per_unit\n",
    "discount_to_total_value = total_value_of_initial_stock * discount_percentage\n",
    "discounted_value_of_stock = total_value_of_initial_stock - discount_to_total_value\n",
    "\n",
    "new_shipment = 30\n",
    "updated_quantity = initial_quantity + new_shipment\n",
    "\n",
    "print(\"Product Name:\", product_name)\n",
    "print(\"Initial Quantity:\", initial_quantity)\n",
    "print(\"Price per Unit:\", price_per_unit)\n",
    "print(\"Discount Percentage:\", discount_percentage * 100, \"%\")\n",
    "\n",
    "print(\"\\n----Result----\")\n",
    "print(\"Total Value of Initial Stock: $\", total_value_of_initial_stock)\n",
    "print(\"Discounted Value: $\", discounted_value_of_stock)\n",
    "print(\"Updated Quantity:\", updated_quantity)"
   ]
  },
  {
   "cell_type": "code",
   "execution_count": 26,
   "id": "9e7132d8-0cb3-4e2d-9e1f-e78ccf139232",
   "metadata": {},
   "outputs": [
    {
     "name": "stdout",
     "output_type": "stream",
     "text": [
      "The Mau Forest is the largest closed‐canopy montane forest ecosystem in East Africa, covering 400000 hectares.\n",
      "The Mau Forest is the largest closed‐canopy montaneforest ecosystem in East Africa, covering 400000 hectares.\n"
     ]
    }
   ],
   "source": [
    "forest_name = \"Mau Forest\"\n",
    "area = 400000\n",
    "forest_type = \"closed‐canopy montane\"\n",
    "\n",
    "\n",
    "print(f\"The {forest_name} is the largest {forest_type} forest ecosystem in East Africa, covering {area} hectares.\")\n",
    "print(\"The\", forest_name + \" is the largest\", forest_type + \" forest ecosystem in East Africa, covering\", str(area) +\" hectares.\")"
   ]
  },
  {
   "cell_type": "code",
   "execution_count": 27,
   "id": "b15a5352-65f1-49ea-a38f-56b6f1695165",
   "metadata": {},
   "outputs": [
    {
     "name": "stdout",
     "output_type": "stream",
     "text": [
      "The annual growth rate of trees in the Amazon forest is 2.5%.\n"
     ]
    }
   ],
   "source": [
    "growth_rate = 2.5\n",
    "forest_region = \"Amazon\"\n",
    "\n",
    "print(\"The annual growth rate of trees in the {} forest is {}%.\".format(forest_region, growth_rate))"
   ]
  },
  {
   "cell_type": "code",
   "execution_count": 28,
   "id": "9bb6dd4f-36a5-44e8-81ac-43473ed39d24",
   "metadata": {},
   "outputs": [
    {
     "name": "stdout",
     "output_type": "stream",
     "text": [
      "Sustainable Forest Management is crucial for maintaining biodiversity.\n"
     ]
    }
   ],
   "source": [
    "sfm_concept = \"Sustainable Forest Management\"\n",
    "biodiversity_importance = \"maintaining biodiversity\"\n",
    "\n",
    "print(f\"{sfm_concept} is crucial for {biodiversity_importance}.\")"
   ]
  },
  {
   "cell_type": "code",
   "execution_count": 40,
   "id": "b293642c-4e8e-4a94-842d-12036ac5e7e9",
   "metadata": {},
   "outputs": [
    {
     "name": "stdout",
     "output_type": "stream",
     "text": [
      "('Yellow anaconda', 'Reptile', 30.5, 20)\n"
     ]
    },
    {
     "data": {
      "text/plain": [
       "tuple"
      ]
     },
     "execution_count": 40,
     "metadata": {},
     "output_type": "execute_result"
    }
   ],
   "source": [
    "animal_tuple = tuple([\"Yellow anaconda\", \"Reptile\", 30.5, 20])\n",
    "\n",
    "print (animal_tuple)\n",
    "type(animal_tuple)"
   ]
  },
  {
   "cell_type": "code",
   "execution_count": 34,
   "id": "83c2e021-b4bf-42d1-a9e6-7c520e8a33b2",
   "metadata": {},
   "outputs": [
    {
     "name": "stdout",
     "output_type": "stream",
     "text": [
      "0\n"
     ]
    }
   ],
   "source": [
    "first_index = animal_tuple.index(\"Yellow anaconda\")\n",
    "print(first_index)"
   ]
  },
  {
   "cell_type": "code",
   "execution_count": 35,
   "id": "aa859647-2b55-443b-9a9a-0ca2d7983430",
   "metadata": {},
   "outputs": [
    {
     "name": "stdout",
     "output_type": "stream",
     "text": [
      "('Reptile', 30.5, 20)\n"
     ]
    }
   ],
   "source": [
    "sliced_tuple = animal_tuple[1:4]\n",
    "print(sliced_tuple)"
   ]
  },
  {
   "cell_type": "code",
   "execution_count": 37,
   "id": "3d00243f-d6e9-4d30-b5a8-072dbb27ec9e",
   "metadata": {},
   "outputs": [
    {
     "name": "stdout",
     "output_type": "stream",
     "text": [
      "('Yellow anaconda', 'Reptile', 30.5, 20, 'Swamp', False)\n"
     ]
    }
   ],
   "source": [
    "animal_tuple_new = animal_tuple + (\"Swamp\", False)\n",
    "print(animal_tuple_new)"
   ]
  },
  {
   "cell_type": "code",
   "execution_count": 41,
   "id": "18fd17ca-fbb1-4a3d-b7bc-47a3f72ded65",
   "metadata": {},
   "outputs": [
    {
     "name": "stdout",
     "output_type": "stream",
     "text": [
      "No. of attributes: 6\n"
     ]
    }
   ],
   "source": [
    "length_of_tuple = len(animal_tuple_new)\n",
    "print(f\"No. of attributes: {length_of_tuple}\")"
   ]
  },
  {
   "cell_type": "code",
   "execution_count": 42,
   "id": "03add0a2-c922-4a66-9ff1-d0d04ed0b0e2",
   "metadata": {},
   "outputs": [
    {
     "name": "stdout",
     "output_type": "stream",
     "text": [
      "1\n"
     ]
    }
   ],
   "source": [
    "count_false = animal_tuple_new.count(False)\n",
    "print(count_false)"
   ]
  },
  {
   "cell_type": "code",
   "execution_count": 46,
   "id": "76be3f1b-bbcf-4030-b9dc-de48ef573a64",
   "metadata": {},
   "outputs": [
    {
     "name": "stdout",
     "output_type": "stream",
     "text": [
      "Name: Yellow anaconda\n",
      "Group: Reptile\n",
      "Average Weight: 30.5\n",
      "Average Lifespan: 20\n"
     ]
    }
   ],
   "source": [
    "animal_tuple = (\"Yellow anaconda\", \"Reptile\", 30.5, 20)\n",
    "\n",
    "name, group, av_weight, av_lifespan = animal_tuple\n",
    "print(f\"Name: {name}\")\n",
    "print(f\"Group: {group}\")\n",
    "print(f\"Average Weight: {av_weight}\")\n",
    "print(f\"Average Lifespan: {av_lifespan}\")"
   ]
  },
  {
   "cell_type": "code",
   "execution_count": 50,
   "id": "cc341bc5-a7c4-42e7-a2e4-fcc2817a0e93",
   "metadata": {},
   "outputs": [
    {
     "name": "stdout",
     "output_type": "stream",
     "text": [
      "(8, 'apple', 'Granny Smith')\n"
     ]
    },
    {
     "data": {
      "text/plain": [
       "tuple"
      ]
     },
     "execution_count": 50,
     "metadata": {},
     "output_type": "execute_result"
    }
   ],
   "source": [
    "tree_tuple = tuple([8, \"apple\", \"Granny Smith\"])\n",
    "\n",
    "print(tree_tuple)\n",
    "type(tree_tuple)"
   ]
  },
  {
   "cell_type": "code",
   "execution_count": 52,
   "id": "42f5cce9-4394-4282-99ee-afb7041a0a0d",
   "metadata": {},
   "outputs": [
    {
     "name": "stdout",
     "output_type": "stream",
     "text": [
      "Length of Tree Tuple: 3\n"
     ]
    }
   ],
   "source": [
    "length_tree_tuple = len(tree_tuple)\n",
    "print(f\"Length of Tree Tuple: {length_tree_tuple}\")"
   ]
  },
  {
   "cell_type": "code",
   "execution_count": 69,
   "id": "4ed98e70-1edd-475c-bac7-65d0238285b5",
   "metadata": {},
   "outputs": [
    {
     "name": "stdout",
     "output_type": "stream",
     "text": [
      "apple\n"
     ]
    }
   ],
   "source": [
    "fruit = tree_tuple[1]\n",
    "print(fruit)"
   ]
  },
  {
   "cell_type": "code",
   "execution_count": 56,
   "id": "833fd9ae-00c3-43cd-a217-b1ce137d04d9",
   "metadata": {},
   "outputs": [
    {
     "name": "stdout",
     "output_type": "stream",
     "text": [
      "('apple', 'Granny Smith')\n"
     ]
    }
   ],
   "source": [
    "text_only = tree_tuple[1:3]\n",
    "print(text_only)"
   ]
  },
  {
   "cell_type": "code",
   "execution_count": 60,
   "id": "aeeac0fd-377f-49db-8517-e6ca77ecf4ab",
   "metadata": {},
   "outputs": [
    {
     "name": "stdout",
     "output_type": "stream",
     "text": [
      "('peach', 'apricot', 'plum')\n",
      "('lemon', 'orange', 'grapefruit')\n"
     ]
    }
   ],
   "source": [
    "fruit_summer = tuple([\"peach\", \"apricot\", \"plum\"])\n",
    "fruit_winter = tuple([\"lemon\", \"orange\", \"grapefruit\"])\n",
    "\n",
    "print(fruit_summer)\n",
    "print(fruit_winter)"
   ]
  },
  {
   "cell_type": "code",
   "execution_count": 61,
   "id": "597ef425-b837-4158-9e64-ddb198555151",
   "metadata": {},
   "outputs": [
    {
     "name": "stdout",
     "output_type": "stream",
     "text": [
      "('peach', 'apricot', 'plum', 'lemon', 'orange', 'grapefruit')\n"
     ]
    }
   ],
   "source": [
    "all_fruit = fruit_summer + fruit_winter\n",
    "print(all_fruit)"
   ]
  },
  {
   "cell_type": "code",
   "execution_count": 64,
   "id": "5a150673-b32e-4aeb-9825-ac5d9b8316b1",
   "metadata": {},
   "outputs": [
    {
     "name": "stdout",
     "output_type": "stream",
     "text": [
      "1\n"
     ]
    }
   ],
   "source": [
    "count_peach = all_fruit.count(\"peach\")\n",
    "print(count_peach)"
   ]
  },
  {
   "cell_type": "code",
   "execution_count": 68,
   "id": "62e7f504-62e2-4738-b6f2-352f3bd5465c",
   "metadata": {},
   "outputs": [
    {
     "name": "stdout",
     "output_type": "stream",
     "text": [
      "Colour: yellow\n",
      "Age: 5\n",
      "Tree Type: lemon\n"
     ]
    }
   ],
   "source": [
    "combined_info = ('yellow', 5, 'lemon')\n",
    "colour, age, tree_type = combined_info\n",
    "\n",
    "print(f\"Colour: {colour}\")\n",
    "print(f\"Age: {age}\")\n",
    "print(f\"Tree Type: {tree_type}\")"
   ]
  },
  {
   "cell_type": "code",
   "execution_count": 72,
   "id": "c8ff9add-fe7d-462a-be7f-0bfd5f74d844",
   "metadata": {},
   "outputs": [
    {
     "data": {
      "text/plain": [
       "[]"
      ]
     },
     "execution_count": 72,
     "metadata": {},
     "output_type": "execute_result"
    }
   ],
   "source": [
    "mammals = []\n",
    "mammals"
   ]
  },
  {
   "cell_type": "code",
   "execution_count": 75,
   "id": "19987cb7-45eb-406f-a260-610a3092e7ca",
   "metadata": {},
   "outputs": [
    {
     "data": {
      "text/plain": [
       "['Eagle', 'Penguin', 'Parrot']"
      ]
     },
     "execution_count": 75,
     "metadata": {},
     "output_type": "execute_result"
    }
   ],
   "source": [
    "mammals = [\"Lion\", \"Elephant\", \"Dolphin\"]\n",
    "mammals\n",
    "\n",
    "birds = list((\"Eagle\", \"Penguin\", \"Parrot\"))\n",
    "birds"
   ]
  },
  {
   "cell_type": "code",
   "execution_count": 74,
   "id": "67993f18-bba3-44b4-b7b0-9412413a9ed7",
   "metadata": {},
   "outputs": [
    {
     "data": {
      "text/plain": [
       "[0, 1, 2, 3, 4]"
      ]
     },
     "execution_count": 74,
     "metadata": {},
     "output_type": "execute_result"
    }
   ],
   "source": [
    "range_list = list(range(0,5))\n",
    "range_list"
   ]
  },
  {
   "cell_type": "code",
   "execution_count": 76,
   "id": "fb82d4ec-e0c0-407f-928a-ac8b121673c3",
   "metadata": {},
   "outputs": [
    {
     "name": "stdout",
     "output_type": "stream",
     "text": [
      "['Eagle', 'Penguin', 'Parrot']\n",
      "[0, 1, 2, 3, 4]\n"
     ]
    }
   ],
   "source": [
    "print(birds)\n",
    "print(range_list)"
   ]
  },
  {
   "cell_type": "code",
   "execution_count": 77,
   "id": "2c5e7f1a-9382-499c-b87c-cf7698b60990",
   "metadata": {},
   "outputs": [
    {
     "data": {
      "text/plain": [
       "['Lion', 'Elephant', 'Dolphin', 'Eagle', 'Penguin', 'Parrot']"
      ]
     },
     "execution_count": 77,
     "metadata": {},
     "output_type": "execute_result"
    }
   ],
   "source": [
    "animals_combined = mammals + birds\n",
    "animals_combined"
   ]
  },
  {
   "cell_type": "code",
   "execution_count": 78,
   "id": "ac569e7a-199c-4d02-aeb6-071b0c90275d",
   "metadata": {},
   "outputs": [
    {
     "name": "stdout",
     "output_type": "stream",
     "text": [
      "['Lion', 'Elephant', 'Dolphin'] ['Lion', 'Elephant', 'Dolphin']\n"
     ]
    }
   ],
   "source": [
    "mammals_copy = mammals.copy()\n",
    "\n",
    "print(mammals, mammals_copy)"
   ]
  },
  {
   "cell_type": "code",
   "execution_count": 79,
   "id": "6f6ab365-cf8f-4d5a-99f7-b406b69a5564",
   "metadata": {},
   "outputs": [
    {
     "name": "stdout",
     "output_type": "stream",
     "text": [
      "[['Lion', 'Elephant', 'Dolphin'], ['Eagle', 'Penguin', 'Parrot']]\n"
     ]
    }
   ],
   "source": [
    "animals_grouped = [mammals, birds]\n",
    "print(animals_grouped)"
   ]
  },
  {
   "cell_type": "code",
   "execution_count": 80,
   "id": "ce425077-59ee-4fe4-ab8c-438df7744ac7",
   "metadata": {},
   "outputs": [
    {
     "name": "stdout",
     "output_type": "stream",
     "text": [
      "Elephant\n"
     ]
    }
   ],
   "source": [
    "animals_grouped = [['Lion', 'Elephant', 'Dolphin'], ['Eagle', 'Penguin', 'Parrot']]\n",
    "second_mammal = animals_grouped[0][1]\n",
    "print(second_mammal)"
   ]
  },
  {
   "cell_type": "code",
   "execution_count": 81,
   "id": "9bc1e45e-e95c-4110-beec-91148ac04ab3",
   "metadata": {},
   "outputs": [
    {
     "name": "stdout",
     "output_type": "stream",
     "text": [
      "['Dolphin', 'Eagle', 'Penguin']\n"
     ]
    }
   ],
   "source": [
    "animals_combined = ['Lion', 'Elephant', 'Dolphin', 'Eagle', 'Penguin', 'Parrot']\n",
    "sliced_list = animals_combined[2:5]\n",
    "print(sliced_list)"
   ]
  },
  {
   "cell_type": "code",
   "execution_count": 93,
   "id": "ef8b023d-b76b-4594-a562-3a11094ba761",
   "metadata": {},
   "outputs": [
    {
     "name": "stdout",
     "output_type": "stream",
     "text": [
      "['Lion', 'Elephant', 'Dolphin', ['Cat', 'Dog']]\n",
      "['Lion', 'Elephant', 'Dolphin', ['Cat', 'Dog'], 'Bear', 'Horse']\n",
      "['Lion', 'Elephant', 'Dolphin', 'Tiger', ['Cat', 'Dog'], 'Bear', 'Horse']\n"
     ]
    }
   ],
   "source": [
    "mammals_copy = mammals.copy()\n",
    "\n",
    "# Add a list element to mammals_copy\n",
    "mammals_copy.append([\"Cat\", \"Dog\"])\n",
    "print(mammals_copy)\n",
    "\n",
    "mammals_copy.extend([\"Bear\", \"Horse\"])\n",
    "print(mammals_copy)\n",
    "\n",
    "mammals_copy.insert(3, \"Tiger\")\n",
    "print(mammals_copy)"
   ]
  },
  {
   "cell_type": "code",
   "execution_count": 94,
   "id": "991b3eb1-1535-4284-be4e-8c2177d656c7",
   "metadata": {},
   "outputs": [
    {
     "name": "stdout",
     "output_type": "stream",
     "text": [
      "['Lion', 'Elephant', 'Dolphin', 'Tiger', ['Cat', 'Dog'], 'Bear', 'Horse']\n",
      "['Lion', 'Elephant', 'Dolphin', 'Tiger', 'Horse']\n"
     ]
    }
   ],
   "source": [
    "print(mammals_copy)\n",
    "\n",
    "# Remove the elements at index 4 and 5 from mammals_copy\n",
    "del mammals_copy[4:6]\n",
    "print(mammals_copy)\n"
   ]
  },
  {
   "cell_type": "code",
   "execution_count": 95,
   "id": "2e1778dc-53e9-4b16-9822-54ce4bb66bf4",
   "metadata": {},
   "outputs": [
    {
     "name": "stdout",
     "output_type": "stream",
     "text": [
      "['Lion', 'Elephant', 'Dolphin', 'Tiger']\n"
     ]
    }
   ],
   "source": [
    "mammals_copy.remove(\"Horse\")\n",
    "print(mammals_copy)"
   ]
  },
  {
   "cell_type": "code",
   "execution_count": 96,
   "id": "d7f56f77-72b7-4fc5-a269-d93667c33139",
   "metadata": {},
   "outputs": [
    {
     "name": "stdout",
     "output_type": "stream",
     "text": [
      "Dolphin\n",
      "['Lion', 'Elephant', 'Tiger']\n"
     ]
    }
   ],
   "source": [
    "third_mammal = mammals_copy.pop(2)\n",
    "print(third_mammal)\n",
    "print(mammals_copy)"
   ]
  },
  {
   "cell_type": "code",
   "execution_count": 97,
   "id": "05837ba5-8b8e-45d5-b8a7-f79f9c4e662e",
   "metadata": {},
   "outputs": [
    {
     "name": "stdout",
     "output_type": "stream",
     "text": [
      "['Lion', 'Cheetah', 'Tiger']\n"
     ]
    }
   ],
   "source": [
    "mammals_copy[1] = \"Cheetah\"\n",
    "print(mammals_copy)"
   ]
  },
  {
   "cell_type": "code",
   "execution_count": 99,
   "id": "0953a141-e693-4a96-a386-5be696f1ee64",
   "metadata": {},
   "outputs": [
    {
     "data": {
      "text/plain": [
       "True"
      ]
     },
     "execution_count": 99,
     "metadata": {},
     "output_type": "execute_result"
    }
   ],
   "source": [
    "\"Penguin\" in birds"
   ]
  },
  {
   "cell_type": "code",
   "execution_count": 101,
   "id": "850d5d58-4908-4628-8bdf-fe1537db6229",
   "metadata": {},
   "outputs": [
    {
     "name": "stdout",
     "output_type": "stream",
     "text": [
      "['Tiger', 'Lion', 'Cheetah']\n"
     ]
    }
   ],
   "source": [
    "mammals_copy.sort(reverse = True)\n",
    "print(mammals_copy)"
   ]
  },
  {
   "cell_type": "code",
   "execution_count": 103,
   "id": "fd028929-73ad-44dc-8d42-9533a26f835f",
   "metadata": {},
   "outputs": [
    {
     "name": "stdout",
     "output_type": "stream",
     "text": [
      "['Lion', 'Elephant', 'Dolphin', 'Eagle', 'Penguin', 'Parrot']\n",
      "['Penguin', 'Parrot', 'Lion', 'Elephant', 'Eagle', 'Dolphin']\n"
     ]
    }
   ],
   "source": [
    "print(animals_combined)\n",
    "animals_sorted = sorted(animals_combined, reverse = True)\n",
    "print(animals_sorted)"
   ]
  },
  {
   "cell_type": "code",
   "execution_count": 104,
   "id": "eadf516f-4cda-406e-bd2f-fddb26280d0b",
   "metadata": {},
   "outputs": [
    {
     "data": {
      "text/plain": [
       "True"
      ]
     },
     "execution_count": 104,
     "metadata": {},
     "output_type": "execute_result"
    }
   ],
   "source": [
    "boolean_list = [False, True]\n",
    "any(boolean_list)"
   ]
  },
  {
   "cell_type": "code",
   "execution_count": 106,
   "id": "4e088997-5efb-4a9a-9534-ea6fac1529a8",
   "metadata": {},
   "outputs": [
    {
     "data": {
      "text/plain": [
       "[1, 2, 3, 4, 5]"
      ]
     },
     "execution_count": 106,
     "metadata": {},
     "output_type": "execute_result"
    }
   ],
   "source": [
    "first_trees = list(range(1,6))\n",
    "first_trees"
   ]
  },
  {
   "cell_type": "code",
   "execution_count": 115,
   "id": "d0d65e87-3b9f-4e20-a97a-1abc02b22c09",
   "metadata": {},
   "outputs": [
    {
     "name": "stdout",
     "output_type": "stream",
     "text": [
      "[20, 24, 28, 32, 36, 40, 44, 48, 52, 56, 60, 64, 68, 72, 76, 80, 84, 88, 92, 96, 100, 104, 108, 112, 116, 120, 124, 128, 132, 136, 140, [400]]\n"
     ]
    }
   ],
   "source": [
    "tree_list = list(range(20, 144, 4))\n",
    "tree_list\n",
    "\n",
    "tree_list.append([400])\n",
    "print(tree_list)"
   ]
  },
  {
   "cell_type": "code",
   "execution_count": 117,
   "id": "a5d8eae9-20ef-471a-8ef7-026f36350e37",
   "metadata": {},
   "outputs": [
    {
     "name": "stdout",
     "output_type": "stream",
     "text": [
      "[20, 24, 28, 32, 36, 40, 44, 48, 52, 56, 60, 64, 68, 72, 76, 80, 84, 88, 92, 96, 100, 104, 108, 112, 116, 120, 124, 128, 132, 136, 140, [400], 500, 600, 700]\n"
     ]
    },
    {
     "data": {
      "text/plain": [
       "35"
      ]
     },
     "execution_count": 117,
     "metadata": {},
     "output_type": "execute_result"
    }
   ],
   "source": [
    "old_trees = [500, 600, 700]\n",
    "combined_trees = tree_list + old_trees\n",
    "\n",
    "print(combined_trees)\n",
    "\n",
    "len(combined_trees)"
   ]
  },
  {
   "cell_type": "code",
   "execution_count": 118,
   "id": "ef183244-6162-48a9-a874-6b648c4f59ec",
   "metadata": {},
   "outputs": [
    {
     "name": "stdout",
     "output_type": "stream",
     "text": [
      "[['Pine', 'Fir', 'Juniper'], ['Cycas', 'Sago palm', 'Zamia']]\n"
     ]
    }
   ],
   "source": [
    "conifers = [\"Pine\", \"Fir\", \"Juniper\"]\n",
    "cycads = [\"Cycas\", \"Sago palm\", \"Zamia\"]\n",
    "\n",
    "gymnosperms = [conifers, cycads]\n",
    "print(gymnosperms)"
   ]
  },
  {
   "cell_type": "code",
   "execution_count": 122,
   "id": "341d00a8-2b23-44ce-817b-e98f7b8b3be1",
   "metadata": {},
   "outputs": [
    {
     "name": "stdout",
     "output_type": "stream",
     "text": [
      "['Cycas', 'Sago palm']\n"
     ]
    }
   ],
   "source": [
    "planting_cycas_sago = gymnosperms [1][0:2]\n",
    "print(planting_cycas_sago)"
   ]
  },
  {
   "cell_type": "code",
   "execution_count": 132,
   "id": "a3f815c3-5f80-4164-ad6b-9aaecc54ef76",
   "metadata": {},
   "outputs": [
    {
     "name": "stdout",
     "output_type": "stream",
     "text": [
      "['Pine', 'Fir', 'Juniper', 'Cycas', 'Sago palm', 'Zamia']\n",
      "['Cycas', 'Fir', 'Juniper', 'Pine', 'Sago palm', 'Zamia']\n"
     ]
    }
   ],
   "source": [
    "combined_gymnosperms = (conifers + cycads)\n",
    "print(combined_gymnosperms)\n",
    "\n",
    "combined_gymnosperms = sorted(combined_gymnosperms, reverse = False)\n",
    "print(combined_gymnosperms)"
   ]
  },
  {
   "cell_type": "code",
   "execution_count": 133,
   "id": "472a504d-d4b8-4e27-9a30-b73206997ec8",
   "metadata": {},
   "outputs": [
    {
     "name": "stdout",
     "output_type": "stream",
     "text": [
      "{'Giraffe', 'Elephant', 'Fox', 'Bear', 'Rabbit'}\n"
     ]
    }
   ],
   "source": [
    "eats_plants = {\"Giraffe\", \"Elephant\", \"Bear\", \"Rabbit\", \"Fox\"}\n",
    "print(eats_plants)"
   ]
  },
  {
   "cell_type": "code",
   "execution_count": 134,
   "id": "c768591f-8da1-408b-95a9-8c6400e71e2c",
   "metadata": {},
   "outputs": [
    {
     "name": "stdout",
     "output_type": "stream",
     "text": [
      "{'Fox', 'Hawk', 'Bear', 'Lion', 'Tiger'}\n"
     ]
    }
   ],
   "source": [
    "eats_meat = {\"Lion\", \"Tiger\", \"Bear\", \"Hawk\", \"Fox\", \"Lion\"}\n",
    "print(eats_meat)"
   ]
  },
  {
   "cell_type": "code",
   "execution_count": 135,
   "id": "6c29d26e-2baf-48a7-ad9c-59294e351af7",
   "metadata": {},
   "outputs": [
    {
     "name": "stdout",
     "output_type": "stream",
     "text": [
      "{'Giraffe', 'Elephant', 'Fox', 'Cow', 'Bear', 'Rabbit'}\n"
     ]
    }
   ],
   "source": [
    "eats_plants.add(\"Cow\")\n",
    "print(eats_plants)"
   ]
  },
  {
   "cell_type": "code",
   "execution_count": 139,
   "id": "68dbe912-89a4-48cd-ad00-2726fe7e3be5",
   "metadata": {},
   "outputs": [
    {
     "name": "stdout",
     "output_type": "stream",
     "text": [
      "{'Bear', 'Tiger', 'Cheetah', 'Leopard', 'Fox', 'Hawk', 'Lion'}\n"
     ]
    }
   ],
   "source": [
    "Deer = {\"Leopard\", \"Cheetah\"}\n",
    "eats_meat.update({\"Leopard\", \"Cheetah\"})\n",
    "print(eats_meat)"
   ]
  },
  {
   "cell_type": "code",
   "execution_count": 143,
   "id": "eb247b10-4611-4b5a-a56c-c1e4c7b7a397",
   "metadata": {},
   "outputs": [
    {
     "ename": "KeyError",
     "evalue": "'Rabbit'",
     "output_type": "error",
     "traceback": [
      "\u001b[1;31m---------------------------------------------------------------------------\u001b[0m",
      "\u001b[1;31mKeyError\u001b[0m                                  Traceback (most recent call last)",
      "Cell \u001b[1;32mIn[143], line 1\u001b[0m\n\u001b[1;32m----> 1\u001b[0m eats_plants\u001b[38;5;241m.\u001b[39mremove(\u001b[38;5;124m\"\u001b[39m\u001b[38;5;124mRabbit\u001b[39m\u001b[38;5;124m\"\u001b[39m)\n\u001b[0;32m      2\u001b[0m \u001b[38;5;28mprint\u001b[39m(eats_plants)\n",
      "\u001b[1;31mKeyError\u001b[0m: 'Rabbit'"
     ]
    }
   ],
   "source": [
    "eats_plants.remove(\"Rabbit\")\n",
    "print(eats_plants)"
   ]
  },
  {
   "cell_type": "code",
   "execution_count": 144,
   "id": "113457f5-b63b-4eb5-8aea-ac0ef2606244",
   "metadata": {},
   "outputs": [
    {
     "name": "stdout",
     "output_type": "stream",
     "text": [
      "{'Giraffe', 'Elephant', 'Fox', 'Cow', 'Bear'}\n"
     ]
    }
   ],
   "source": [
    "eats_plants.discard(\"Deer\")\n",
    "print(eats_plants)"
   ]
  },
  {
   "cell_type": "code",
   "execution_count": 145,
   "id": "59991a50-b88a-4bc6-a03a-53873e0898ef",
   "metadata": {},
   "outputs": [
    {
     "name": "stdout",
     "output_type": "stream",
     "text": [
      "{'Giraffe', 'Bear', 'Elephant', 'Tiger', 'Cheetah', 'Leopard', 'Fox', 'Hawk', 'Cow', 'Lion'}\n"
     ]
    }
   ],
   "source": [
    "all_animals = eats_meat.union(eats_plants)\n",
    "print(all_animals)"
   ]
  },
  {
   "cell_type": "code",
   "execution_count": 146,
   "id": "304f93fb-72ec-40b8-a825-8a5a4adf2785",
   "metadata": {},
   "outputs": [
    {
     "name": "stdout",
     "output_type": "stream",
     "text": [
      "{'Bear', 'Fox'}\n"
     ]
    }
   ],
   "source": [
    "omnivores = eats_meat.intersection(eats_plants)\n",
    "print(omnivores)"
   ]
  },
  {
   "cell_type": "code",
   "execution_count": 147,
   "id": "1ed6a68f-22ae-4da2-b8de-43526fa9995b",
   "metadata": {},
   "outputs": [
    {
     "name": "stdout",
     "output_type": "stream",
     "text": [
      "{'Tiger', 'Cheetah', 'Leopard', 'Hawk', 'Lion'}\n"
     ]
    }
   ],
   "source": [
    "carnivore_only = eats_meat.difference(eats_plants)\n",
    "print(carnivore_only)"
   ]
  },
  {
   "cell_type": "code",
   "execution_count": 148,
   "id": "a69cb302-2c96-4f6a-9957-dd1cad64f8bc",
   "metadata": {},
   "outputs": [
    {
     "name": "stdout",
     "output_type": "stream",
     "text": [
      "True\n"
     ]
    }
   ],
   "source": [
    "eats_plants_subset = eats_plants.issubset(all_animals)\n",
    "print(eats_plants_subset)"
   ]
  },
  {
   "cell_type": "code",
   "execution_count": 149,
   "id": "e21f7d3b-1824-472f-b3d2-b40dc0060d50",
   "metadata": {},
   "outputs": [
    {
     "name": "stdout",
     "output_type": "stream",
     "text": [
      "No. of animals that are exclusively carnivorous: 5\n"
     ]
    }
   ],
   "source": [
    "Length_of_set = len(carnivore_only)\n",
    "print(f\"No. of animals that are exclusively carnivorous: {Length_of_set}\")"
   ]
  },
  {
   "cell_type": "code",
   "execution_count": 150,
   "id": "1246ba12-589b-48ee-ac61-e74aeba232d9",
   "metadata": {},
   "outputs": [
    {
     "name": "stdout",
     "output_type": "stream",
     "text": [
      "set()\n"
     ]
    }
   ],
   "source": [
    "all_animals.clear()\n",
    "print(all_animals)"
   ]
  },
  {
   "cell_type": "code",
   "execution_count": 167,
   "id": "e5bc2c6e-7294-4f80-9d74-f4f7a81a64c1",
   "metadata": {},
   "outputs": [
    {
     "name": "stdout",
     "output_type": "stream",
     "text": [
      "Tree set: {'Waterpear', 'Yellowwood', 'Marula', 'Fountain Tree', 'Fever Tree', 'Umbrella thorn', 'Indian Laurel', 'Moringa', 'Tamboti', 'Baobab', 'Papaya Tree'}\n"
     ]
    },
    {
     "data": {
      "text/plain": [
       "13"
      ]
     },
     "execution_count": 167,
     "metadata": {},
     "output_type": "execute_result"
    }
   ],
   "source": [
    "tree_list = ['Tamboti', 'Baobab', 'Umbrella thorn', 'Yellowwood', 'Fever Tree', 'Moringa',\n",
    "             'Marula', 'Waterpear','Baobab', 'Fountain Tree', 'Papaya Tree', 'Indian Laurel', 'Moringa']\n",
    "\n",
    "tree_set = {'Tamboti', 'Baobab', 'Umbrella thorn', 'Yellowwood', 'Fever Tree', 'Moringa',\n",
    "             'Marula', 'Waterpear','Baobab', 'Fountain Tree', 'Papaya Tree', 'Indian Laurel', 'Moringa'}\n",
    "print(\"Tree set:\",tree_set)\n",
    "len(tree_list)"
   ]
  },
  {
   "cell_type": "code",
   "execution_count": 161,
   "id": "27e17d71-68ee-40f9-b61c-9e96a268585e",
   "metadata": {},
   "outputs": [
    {
     "data": {
      "text/plain": [
       "11"
      ]
     },
     "execution_count": 161,
     "metadata": {},
     "output_type": "execute_result"
    }
   ],
   "source": [
    "len(tree_set)"
   ]
  },
  {
   "cell_type": "code",
   "execution_count": 164,
   "id": "4cf2d11c-95ff-4539-9337-39dbbfd8bb2c",
   "metadata": {},
   "outputs": [
    {
     "name": "stdout",
     "output_type": "stream",
     "text": [
      "{'Weeping Boer Bean', 'Jackalberry', 'Natal Mahogany', 'Bushwillow', 'Marula Tree', 'Baobab', 'Wild Date Palm', 'Lala Palm', 'Sausage Tree', 'Nara Plant', 'Umbrella Thorn', 'Leadwood', 'Tamboti', 'Mopane Tree', 'Knob Thorn', 'Buffalo Thorn'}\n",
      "{'Knob Thorn', 'Bushwillow', 'Jackalberry'}\n",
      "{'Weeping Boer Bean', 'Lala Palm', 'Sausage Tree', 'Umbrella Thorn', 'Marula Tree', 'Baobab', 'Buffalo Thorn'}\n",
      "True\n"
     ]
    }
   ],
   "source": [
    "day_1_trees = {'Baobab', 'Buffalo Thorn', 'Bushwillow', 'Jackalberry', 'Knob Thorn', 'Lala Palm', 'Marula Tree', 'Umbrella Thorn', 'Weeping Boer Bean', 'Sausage Tree'}\n",
    "day_2_trees = {'Mopane Tree', 'Bushwillow', 'Knob Thorn', 'Jackalberry', 'Nara Plant', 'Wild Date Palm', 'Natal Mahogany', 'Tamboti', 'Leadwood', 'Bushwillow'}\n",
    "\n",
    "union_results = day_1_trees.union(day_2_trees)\n",
    "both_days = day_1_trees.intersection(day_2_trees)\n",
    "one_set_result = day_1_trees.difference(day_2_trees)\n",
    "both_days_subset = both_days.issubset(day_1_trees)\n",
    "print(union_results)\n",
    "print(both_days)\n",
    "print(one_set_result)\n",
    "print(both_days_subset)\n"
   ]
  },
  {
   "cell_type": "code",
   "execution_count": 166,
   "id": "e963f5c3-e953-4e06-9a7c-1bb8fbee28e0",
   "metadata": {},
   "outputs": [
    {
     "name": "stdout",
     "output_type": "stream",
     "text": [
      "False\n"
     ]
    }
   ],
   "source": [
    "hardwood_trees = {'Yellowwood', 'Leadwood', 'Blackwood'}\n",
    "hardwood_trees_subset = hardwood_trees.issubset(day_2_trees)\n",
    "print(hardwood_trees_subset)"
   ]
  },
  {
   "cell_type": "code",
   "execution_count": 6,
   "id": "17a41d4d-1070-49e5-bb45-af1d1c2ba6ef",
   "metadata": {},
   "outputs": [
    {
     "data": {
      "text/plain": [
       "dict"
      ]
     },
     "execution_count": 6,
     "metadata": {},
     "output_type": "execute_result"
    }
   ],
   "source": [
    "our_first_dictionary = {}\n",
    "type(our_first_dictionary)"
   ]
  },
  {
   "cell_type": "code",
   "execution_count": 7,
   "id": "489b422d-a8db-47a8-9564-1a1efaea6854",
   "metadata": {},
   "outputs": [
    {
     "data": {
      "text/plain": [
       "'first_value'"
      ]
     },
     "execution_count": 7,
     "metadata": {},
     "output_type": "execute_result"
    }
   ],
   "source": [
    "our_first_dictionary['first_key']='first_value'\n",
    "\n",
    "our_first_dictionary['first_key']"
   ]
  },
  {
   "cell_type": "code",
   "execution_count": 172,
   "id": "75bc22a7-eda6-42ae-acf7-f9f873f833ba",
   "metadata": {},
   "outputs": [
    {
     "data": {
      "text/plain": [
       "{'first_key': 'second_value', 'extra_key': 'extra_value'}"
      ]
     },
     "execution_count": 172,
     "metadata": {},
     "output_type": "execute_result"
    }
   ],
   "source": [
    "duplicate_key_dict = {'first_key': 'first_value', 'first_key': 'second_value', 'extra_key': 'extra_value'}\n",
    "duplicate_key_dict"
   ]
  },
  {
   "cell_type": "code",
   "execution_count": 8,
   "id": "7cec8865-d60d-4afd-ad55-b532d5789ca6",
   "metadata": {},
   "outputs": [
    {
     "name": "stdout",
     "output_type": "stream",
     "text": [
      "{'first_key': 100}\n"
     ]
    }
   ],
   "source": [
    "our_first_dictionary['first_key'] = 100\n",
    "print(our_first_dictionary)"
   ]
  },
  {
   "cell_type": "code",
   "execution_count": 1,
   "id": "f59df9c2-dd39-4274-bf9c-044b5c74e77d",
   "metadata": {},
   "outputs": [
    {
     "data": {
      "text/plain": [
       "{'first_key': 'second_value', 'extra_key': 'extra_value'}"
      ]
     },
     "execution_count": 1,
     "metadata": {},
     "output_type": "execute_result"
    }
   ],
   "source": [
    "duplicate_key_dict = {'first_key': 'first_value', 'first_key': 'second_value', 'extra_key': 'extra_value'}\n",
    "duplicate_key_dict"
   ]
  },
  {
   "cell_type": "code",
   "execution_count": 9,
   "id": "d88c6e8b-56a2-4cc7-9403-ba381d689230",
   "metadata": {},
   "outputs": [
    {
     "name": "stdout",
     "output_type": "stream",
     "text": [
      "{'first_key': 100}\n"
     ]
    }
   ],
   "source": [
    "our_first_dictionary['first_key'] = 100\n",
    "print(our_first_dictionary)"
   ]
  },
  {
   "cell_type": "code",
   "execution_count": 11,
   "id": "cf02740c-cc7c-4cb9-98f6-361222d16bbc",
   "metadata": {},
   "outputs": [
    {
     "data": {
      "text/plain": [
       "{'first_key': 100,\n",
       " 'extra_key': 'extra_value',\n",
       " 'another_extra_key': 'another_value'}"
      ]
     },
     "execution_count": 11,
     "metadata": {},
     "output_type": "execute_result"
    }
   ],
   "source": [
    "an_extra_key_value_dict = {'extra_key':'extra_value', 'another_extra_key':'another_value'}\n",
    "our_first_dictionary.update(an_extra_key_value_dict)\n",
    "our_first_dictionary"
   ]
  },
  {
   "cell_type": "code",
   "execution_count": 12,
   "id": "f4c42511-d84f-4356-9502-e70583f299a6",
   "metadata": {},
   "outputs": [
    {
     "name": "stdout",
     "output_type": "stream",
     "text": [
      "Original our_first_dictionary:  {'first_key': 100, 'extra_key': 'extra_value', 'another_extra_key': 'another_value'}\n",
      "Updated our_first_dictionary:  {'first_key': 100, 'extra_key': 'extra_value'}\n"
     ]
    }
   ],
   "source": [
    "print(\"Original our_first_dictionary: \", our_first_dictionary)\n",
    "\n",
    "# using del keyword to remove the key-value pair\n",
    "del our_first_dictionary[\"another_extra_key\"]\n",
    "print(\"Updated our_first_dictionary: \", our_first_dictionary)"
   ]
  },
  {
   "cell_type": "code",
   "execution_count": 17,
   "id": "25194c72-40af-4f60-aa07-31c7d826a6c0",
   "metadata": {},
   "outputs": [
    {
     "data": {
      "text/plain": [
       "dict"
      ]
     },
     "execution_count": 17,
     "metadata": {},
     "output_type": "execute_result"
    }
   ],
   "source": [
    "fynbos_families = { 'Erica': {'Cape Floristic Region': 670, 'Worldwide': 4500},\n",
    "                         'Protea': {'Cape Floristic Region': 330, 'Worldwide': 1350},\n",
    "                         'Restio':{'Cape Floristic Region': 320, 'Worldwide': 400},\n",
    "                         'Citrus':{'Cape Floristic Region': 273, 'Worldwide': 1650},\n",
    "                         'Phylica':{'Cape Floristic Region': 137, 'Worldwide': 900}\n",
    "                        }\n",
    "type(fynbos_families[\"Erica\"])"
   ]
  },
  {
   "cell_type": "code",
   "execution_count": 18,
   "id": "23541ec6-7dda-4826-9efc-f0f769aee5ea",
   "metadata": {},
   "outputs": [
    {
     "data": {
      "text/plain": [
       "330"
      ]
     },
     "execution_count": 18,
     "metadata": {},
     "output_type": "execute_result"
    }
   ],
   "source": [
    "fynbos_families[\"Protea\"][\"Cape Floristic Region\"]"
   ]
  },
  {
   "cell_type": "code",
   "execution_count": 19,
   "id": "9dfc367a-07e3-42ce-9e18-c91bf5e1af10",
   "metadata": {},
   "outputs": [
    {
     "name": "stdout",
     "output_type": "stream",
     "text": [
      "{'Cape Floristic Region': 330, 'Worldwide': 1350}\n"
     ]
    }
   ],
   "source": [
    "protea_species = fynbos_families['Protea']\n",
    "print(protea_species)"
   ]
  },
  {
   "cell_type": "code",
   "execution_count": 35,
   "id": "4490b601-dd46-47d4-a327-4d302d05721f",
   "metadata": {},
   "outputs": [
    {
     "data": {
      "text/plain": [
       "['Cape Floristic Region', 'Worldwide']"
      ]
     },
     "execution_count": 35,
     "metadata": {},
     "output_type": "execute_result"
    }
   ],
   "source": [
    "key_list = list(protea_species.keys())\n",
    "key_list"
   ]
  },
  {
   "cell_type": "code",
   "execution_count": 29,
   "id": "7e399572-3e51-4f6f-95e3-c46d3eda231c",
   "metadata": {},
   "outputs": [
    {
     "data": {
      "text/plain": [
       "dict"
      ]
     },
     "execution_count": 29,
     "metadata": {},
     "output_type": "execute_result"
    }
   ],
   "source": [
    "tree = {\"tree_type\": \"Pepper_Bark Tree\", \"age\": 15, \"family\": \"Canellaceae\"}\n",
    "type(tree)"
   ]
  },
  {
   "cell_type": "code",
   "execution_count": 43,
   "id": "5a8ccdcd-5ae6-43fe-90fe-387b6dcf8ef0",
   "metadata": {},
   "outputs": [
    {
     "name": "stdout",
     "output_type": "stream",
     "text": [
      "Age: 15\n"
     ]
    }
   ],
   "source": [
    "print(f\"Age: {tree[\"age\"]}\")"
   ]
  },
  {
   "cell_type": "code",
   "execution_count": 44,
   "id": "201ef006-c804-4020-b05a-683db34238b1",
   "metadata": {},
   "outputs": [
    {
     "name": "stdout",
     "output_type": "stream",
     "text": [
      "{'tree_type': 'Pepper_Bark Tree', 'age': 15, 'family': 'Canellaceae', 'kingdom': 'Plantae'}\n"
     ]
    }
   ],
   "source": [
    "tree_update = {\"kingdom\": \"Plantae\"} \n",
    "tree.update(tree_update)\n",
    "print(tree)"
   ]
  },
  {
   "cell_type": "code",
   "execution_count": 52,
   "id": "6439d265-fb43-44c2-ad59-b69dc2e0c9b5",
   "metadata": {},
   "outputs": [
    {
     "ename": "KeyError",
     "evalue": "'family'",
     "output_type": "error",
     "traceback": [
      "\u001b[1;31m---------------------------------------------------------------------------\u001b[0m",
      "\u001b[1;31mKeyError\u001b[0m                                  Traceback (most recent call last)",
      "Cell \u001b[1;32mIn[52], line 1\u001b[0m\n\u001b[1;32m----> 1\u001b[0m \u001b[38;5;28;01mdel\u001b[39;00m tree[\u001b[38;5;124m\"\u001b[39m\u001b[38;5;124mfamily\u001b[39m\u001b[38;5;124m\"\u001b[39m]\n",
      "\u001b[1;31mKeyError\u001b[0m: 'family'"
     ]
    }
   ],
   "source": [
    "del tree[\"family\"]\n",
    "\n"
   ]
  },
  {
   "cell_type": "code",
   "execution_count": 53,
   "id": "36f978dd-d61f-4045-bfbf-e69ff8c2ccd6",
   "metadata": {},
   "outputs": [
    {
     "name": "stdout",
     "output_type": "stream",
     "text": [
      "{'tree_type': 'Pepper_Bark Tree', 'age': 15, 'kingdom': 'Plantae'}\n"
     ]
    }
   ],
   "source": [
    "print(tree)"
   ]
  },
  {
   "cell_type": "code",
   "execution_count": 57,
   "id": "f54d464a-c7cd-445f-8002-4d6285814672",
   "metadata": {},
   "outputs": [
    {
     "name": "stdout",
     "output_type": "stream",
     "text": [
      "{'tree_type': 'Wild Cinnamon', 'age': 15, 'kingdom': 'Plantae', slice('tree_type', None, None): 'Wild Cinnamon'}\n"
     ]
    }
   ],
   "source": [
    "tree[\"tree_type\"] = \"Wild Cinnamon\"\n",
    "print(tree)\n"
   ]
  },
  {
   "cell_type": "code",
   "execution_count": 61,
   "id": "c74cba80-94b1-4913-96af-dae41fafd908",
   "metadata": {},
   "outputs": [],
   "source": [
    "del tree[slice('tree_type', None, None)]"
   ]
  },
  {
   "cell_type": "code",
   "execution_count": 62,
   "id": "5f3e3643-e01e-42d5-8d1e-60bb315c0d0f",
   "metadata": {},
   "outputs": [
    {
     "name": "stdout",
     "output_type": "stream",
     "text": [
      "{'tree_type': 'Wild Cinnamon', 'age': 15, 'kingdom': 'Plantae'}\n"
     ]
    }
   ],
   "source": [
    "print(tree)"
   ]
  },
  {
   "cell_type": "code",
   "execution_count": 65,
   "id": "f63bf75a-9a8c-4552-a6d8-a78f3f263828",
   "metadata": {},
   "outputs": [
    {
     "name": "stdout",
     "output_type": "stream",
     "text": [
      "Key List: ['tree_type', 'age', 'kingdom']\n",
      "Value List: ['Wild Cinnamon', 15, 'Plantae']\n"
     ]
    }
   ],
   "source": [
    "key_list = list(tree.keys())\n",
    "value_list = list(tree.values())\n",
    "print(f\"Key List: {key_list}\")\n",
    "print(f\"Value List: {value_list}\")"
   ]
  },
  {
   "cell_type": "code",
   "execution_count": 68,
   "id": "4414f83f-1c4e-4e5c-bf39-387586d0dece",
   "metadata": {},
   "outputs": [
    {
     "name": "stdout",
     "output_type": "stream",
     "text": [
      "<class 'dict_items'>\n",
      "(('tree_type', 'Wild Cinnamon'), ('age', 15), ('kingdom', 'Plantae'))\n"
     ]
    }
   ],
   "source": [
    "print(type(tree.items()))\n",
    "\n",
    "item_list = tuple(tree.items())\n",
    "print(item_list)"
   ]
  },
  {
   "cell_type": "code",
   "execution_count": 69,
   "id": "9f1fb482-d895-471f-89e8-14b34bcd2229",
   "metadata": {},
   "outputs": [
    {
     "data": {
      "text/plain": [
       "tuple"
      ]
     },
     "execution_count": 69,
     "metadata": {},
     "output_type": "execute_result"
    }
   ],
   "source": [
    "type(item_list)"
   ]
  },
  {
   "cell_type": "code",
   "execution_count": 70,
   "id": "e66216e3-8da2-4f7d-ac98-a7e5e7cea820",
   "metadata": {},
   "outputs": [
    {
     "name": "stdout",
     "output_type": "stream",
     "text": [
      "{'Baobab': {'common_name': 'Baobab', 'scientific_name': 'Adansonia'}, 'Acacia': {'common_name': 'Acacia', 'scientific_name': 'Acacia'}}\n"
     ]
    }
   ],
   "source": [
    "african_trees = {\n",
    "    \"Baobab\": {\n",
    "        \"common_name\": \"Baobab\",\n",
    "        \"scientific_name\": \"Adansonia\",\n",
    "    },\n",
    "    \"Acacia\": {\n",
    "        \"common_name\": \"Acacia\",\n",
    "        \"scientific_name\": \"Acacia\",\n",
    "    }\n",
    "}\n",
    "print(african_trees)"
   ]
  },
  {
   "cell_type": "code",
   "execution_count": 71,
   "id": "aed29106-fcfa-4ae3-97d6-eaf8e4069ed6",
   "metadata": {},
   "outputs": [
    {
     "name": "stdout",
     "output_type": "stream",
     "text": [
      "{'Baobab': {'country': 'Zimbabwe', 'average_height': 25}, 'Acacia': {'country': 'South Africa', 'average_height': 15}}\n"
     ]
    }
   ],
   "source": [
    "african_trees_update = {\"Baobab\": \n",
    "                        {\"country\": \"Zimbabwe\", \"average_height\": 25}, \n",
    "                    \"Acacia\": \n",
    "                         {\"country\": \"South Africa\", \"average_height\": 15}\n",
    "                    }\n",
    "african_trees.update(african_trees_update)\n",
    "print(african_trees)\n"
   ]
  },
  {
   "cell_type": "code",
   "execution_count": 72,
   "id": "71b8257b-16b0-4cd4-8817-6d514de30709",
   "metadata": {},
   "outputs": [],
   "source": [
    "del african_trees_update"
   ]
  },
  {
   "cell_type": "code",
   "execution_count": 73,
   "id": "97a9025a-5236-41b0-ad17-1a1917510b07",
   "metadata": {},
   "outputs": [
    {
     "name": "stdout",
     "output_type": "stream",
     "text": [
      "{'Baobab': {'country': 'Zimbabwe', 'average_height': 25}, 'Acacia': {'country': 'South Africa', 'average_height': 15}}\n"
     ]
    }
   ],
   "source": [
    "new_baobab = {\"country\":\"Zimbabwe\",\"average_height\":25}\n",
    "african_trees['Baobab'].update(new_baobab)\n",
    "new_acacia = {\"country\":\"South Africa\",\"average_height\":15}\n",
    "african_trees['Acacia'].update(new_acacia)\n",
    "\n",
    "print(african_trees)"
   ]
  },
  {
   "cell_type": "code",
   "execution_count": 74,
   "id": "064590de-c30f-4229-9c6c-6eb7b090dce7",
   "metadata": {},
   "outputs": [
    {
     "name": "stdout",
     "output_type": "stream",
     "text": [
      "{'Baobab': {'country': 'Zimbabwe', 'average_height': 25}, 'Acacia': {'country': 'South Africa', 'average_height': 15}}\n"
     ]
    }
   ],
   "source": [
    "print(african_trees)"
   ]
  },
  {
   "cell_type": "code",
   "execution_count": null,
   "id": "541ea720-2df4-4795-9ca9-54df36d73a0a",
   "metadata": {},
   "outputs": [],
   "source": []
  }
 ],
 "metadata": {
  "kernelspec": {
   "display_name": "Python 3 (ipykernel)",
   "language": "python",
   "name": "python3"
  },
  "language_info": {
   "codemirror_mode": {
    "name": "ipython",
    "version": 3
   },
   "file_extension": ".py",
   "mimetype": "text/x-python",
   "name": "python",
   "nbconvert_exporter": "python",
   "pygments_lexer": "ipython3",
   "version": "3.13.5"
  }
 },
 "nbformat": 4,
 "nbformat_minor": 5
}
